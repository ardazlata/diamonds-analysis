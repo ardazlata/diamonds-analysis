{
 "nbformat": 4,
 "nbformat_minor": 0,
 "metadata": {
  "colab": {
   "provenance": []
  },
  "kernelspec": {
   "name": "python3",
   "display_name": "Python 3"
  },
  "language_info": {
   "name": "python"
  }
 },
 "cells": [
  {
   "cell_type": "code",
   "metadata": {
    "id": "M-3LcOAmBigZ"
   },
   "source": [
    "import seaborn as sns\n",
    "import matplotlib.pyplot as plt\n",
    "\n",
    "sns.set(rc={'figure.figsize':(13, 10)})"
   ],
   "execution_count": null,
   "outputs": []
  },
  {
   "cell_type": "code",
   "metadata": {
    "colab": {
     "base_uri": "https://localhost:8080/",
     "height": 206
    },
    "id": "0tp7U2XIBidc",
    "executionInfo": {
     "status": "ok",
     "timestamp": 1640165744615,
     "user_tz": -180,
     "elapsed": 1839,
     "user": {
      "displayName": "Fethi Tekyaygil",
      "photoUrl": "https://lh3.googleusercontent.com/a-/AOh14GiF5w9ZaGUdyeO-1kYlrWetLJWHHuLtinZj_Wqc=s64",
      "userId": "07772244642227209435"
     }
    },
    "outputId": "5bdaec69-205e-4546-b7e9-6fb64cbf98bb"
   },
   "source": [
    "# Load Diamonds Dataset from seaborn library\n",
    "df_diamonds=sns.load_dataset(\"diamonds\")\n",
    "df_diamonds.head()  # by default, displays the first 5 rows of a dataset "
   ],
   "execution_count": null,
   "outputs": []
  },
  {
   "cell_type": "code",
   "metadata": {
    "colab": {
     "base_uri": "https://localhost:8080/"
    },
    "id": "pjmJd-1fBiaz",
    "executionInfo": {
     "status": "ok",
     "timestamp": 1640165744616,
     "user_tz": -180,
     "elapsed": 13,
     "user": {
      "displayName": "Fethi Tekyaygil",
      "photoUrl": "https://lh3.googleusercontent.com/a-/AOh14GiF5w9ZaGUdyeO-1kYlrWetLJWHHuLtinZj_Wqc=s64",
      "userId": "07772244642227209435"
     }
    },
    "outputId": "4818a0b8-4de7-42ac-9039-990c4676e96f"
   },
   "source": [
    "df_diamonds.info()  # info method prints information of dtype and columns, non-null values and memory usage of a DataFrame"
   ],
   "execution_count": null,
   "outputs": []
  },
  {
   "cell_type": "code",
   "metadata": {
    "colab": {
     "base_uri": "https://localhost:8080/"
    },
    "id": "dpEGumfyBiYp",
    "executionInfo": {
     "status": "ok",
     "timestamp": 1640165744616,
     "user_tz": -180,
     "elapsed": 10,
     "user": {
      "displayName": "Fethi Tekyaygil",
      "photoUrl": "https://lh3.googleusercontent.com/a-/AOh14GiF5w9ZaGUdyeO-1kYlrWetLJWHHuLtinZj_Wqc=s64",
      "userId": "07772244642227209435"
     }
    },
    "outputId": "dfad023f-e37e-4a19-89ad-a90e5ca96555"
   },
   "source": [
    "df_diamonds.columns  # prints the name of the columns "
   ],
   "execution_count": null,
   "outputs": []
  },
  {
   "cell_type": "code",
   "metadata": {
    "colab": {
     "base_uri": "https://localhost:8080/"
    },
    "id": "zkY0vuCquxT8",
    "executionInfo": {
     "status": "ok",
     "timestamp": 1640165744616,
     "user_tz": -180,
     "elapsed": 9,
     "user": {
      "displayName": "Fethi Tekyaygil",
      "photoUrl": "https://lh3.googleusercontent.com/a-/AOh14GiF5w9ZaGUdyeO-1kYlrWetLJWHHuLtinZj_Wqc=s64",
      "userId": "07772244642227209435"
     }
    },
    "outputId": "484bb743-9c4e-40ab-c1f1-cac12aeb2101"
   },
   "source": [
    "df_diamonds[\"cut\"].unique()  # returns unique values of a series object unsorted"
   ],
   "execution_count": null,
   "outputs": []
  },
  {
   "cell_type": "code",
   "metadata": {
    "colab": {
     "base_uri": "https://localhost:8080/"
    },
    "id": "lsEHM4LNBiWm",
    "executionInfo": {
     "status": "ok",
     "timestamp": 1640165744617,
     "user_tz": -180,
     "elapsed": 8,
     "user": {
      "displayName": "Fethi Tekyaygil",
      "photoUrl": "https://lh3.googleusercontent.com/a-/AOh14GiF5w9ZaGUdyeO-1kYlrWetLJWHHuLtinZj_Wqc=s64",
      "userId": "07772244642227209435"
     }
    },
    "outputId": "58255193-67f4-42e1-ff33-b77820167da0"
   },
   "source": [
    "df_diamonds[\"cut\"].value_counts()  # returns the frequency of a value in a series object "
   ],
   "execution_count": null,
   "outputs": []
  },
  {
   "cell_type": "code",
   "metadata": {
    "colab": {
     "base_uri": "https://localhost:8080/"
    },
    "id": "4RSpEjwQBiMq",
    "executionInfo": {
     "status": "ok",
     "timestamp": 1640165744617,
     "user_tz": -180,
     "elapsed": 7,
     "user": {
      "displayName": "Fethi Tekyaygil",
      "photoUrl": "https://lh3.googleusercontent.com/a-/AOh14GiF5w9ZaGUdyeO-1kYlrWetLJWHHuLtinZj_Wqc=s64",
      "userId": "07772244642227209435"
     }
    },
    "outputId": "b7c86293-edb7-4d6a-d06b-3db7efc9cf67"
   },
   "source": [
    "df_diamonds[\"cut\"]  # prints the information stored in a column "
   ],
   "execution_count": null,
   "outputs": []
  },
  {
   "cell_type": "code",
   "metadata": {
    "colab": {
     "base_uri": "https://localhost:8080/",
     "height": 301
    },
    "id": "oq-jiXvHBiKb",
    "executionInfo": {
     "status": "ok",
     "timestamp": 1640165745376,
     "user_tz": -180,
     "elapsed": 765,
     "user": {
      "displayName": "Fethi Tekyaygil",
      "photoUrl": "https://lh3.googleusercontent.com/a-/AOh14GiF5w9ZaGUdyeO-1kYlrWetLJWHHuLtinZj_Wqc=s64",
      "userId": "07772244642227209435"
     }
    },
    "outputId": "06643a7e-e14d-4141-a111-ef41a3f8e68f"
   },
   "source": [
    "df_diamonds[\"cut\"].value_counts().plot.barh().set_title(\"Class Frequencies of the Cut Variable\")"
   ],
   "execution_count": null,
   "outputs": []
  },
  {
   "cell_type": "code",
   "metadata": {
    "colab": {
     "base_uri": "https://localhost:8080/",
     "height": 348
    },
    "id": "2KJMtsbjBiHx",
    "executionInfo": {
     "status": "ok",
     "timestamp": 1640165745377,
     "user_tz": -180,
     "elapsed": 20,
     "user": {
      "displayName": "Fethi Tekyaygil",
      "photoUrl": "https://lh3.googleusercontent.com/a-/AOh14GiF5w9ZaGUdyeO-1kYlrWetLJWHHuLtinZj_Wqc=s64",
      "userId": "07772244642227209435"
     }
    },
    "outputId": "7b9e1c1d-d1e0-4fe8-fbd7-1591c92ede31"
   },
   "source": [
    "df_diamonds[\"cut\"].value_counts().plot.bar().set_title(\"Class Frequencies of the Cut Variable\")  "
   ],
   "execution_count": null,
   "outputs": []
  },
  {
   "cell_type": "code",
   "metadata": {
    "colab": {
     "base_uri": "https://localhost:8080/",
     "height": 318
    },
    "id": "9-Ar-4hxC6lK",
    "executionInfo": {
     "status": "ok",
     "timestamp": 1640165747484,
     "user_tz": -180,
     "elapsed": 2120,
     "user": {
      "displayName": "Fethi Tekyaygil",
      "photoUrl": "https://lh3.googleusercontent.com/a-/AOh14GiF5w9ZaGUdyeO-1kYlrWetLJWHHuLtinZj_Wqc=s64",
      "userId": "07772244642227209435"
     }
    },
    "outputId": "7ff9c81f-1a0d-494f-90f6-c24b7b4e6414"
   },
   "source": [
    "sns.barplot(x=\"cut\", y=df_diamonds[\"cut\"].index,data=df_diamonds, color = 'purple').set_title(\"Cut Density\")"
   ],
   "execution_count": null,
   "outputs": []
  },
  {
   "cell_type": "code",
   "metadata": {
    "colab": {
     "base_uri": "https://localhost:8080/"
    },
    "id": "76yHWopGULIw",
    "executionInfo": {
     "status": "ok",
     "timestamp": 1640165795226,
     "user_tz": -180,
     "elapsed": 8,
     "user": {
      "displayName": "Fethi Tekyaygil",
      "photoUrl": "https://lh3.googleusercontent.com/a-/AOh14GiF5w9ZaGUdyeO-1kYlrWetLJWHHuLtinZj_Wqc=s64",
      "userId": "07772244642227209435"
     }
    },
    "outputId": "7c1a6d0d-7ffa-49da-b962-f936856de417"
   },
   "source": [
    "df_diamonds.info()"
   ],
   "execution_count": null,
   "outputs": []
  },
  {
   "cell_type": "code",
   "metadata": {
    "colab": {
     "base_uri": "https://localhost:8080/",
     "height": 592
    },
    "id": "SKF-J5WWYpVm",
    "executionInfo": {
     "status": "ok",
     "timestamp": 1640165808737,
     "user_tz": -180,
     "elapsed": 1349,
     "user": {
      "displayName": "Fethi Tekyaygil",
      "photoUrl": "https://lh3.googleusercontent.com/a-/AOh14GiF5w9ZaGUdyeO-1kYlrWetLJWHHuLtinZj_Wqc=s64",
      "userId": "07772244642227209435"
     }
    },
    "outputId": "681cc050-105c-47ca-b930-fb01293c8fbb"
   },
   "source": [
    "df_diamonds.groupby('cut').sum().plot.pie(y='price', autopct=\"%.1f%%\", ylabel=\"\", legend=False, figsize=(10,10))"
   ],
   "execution_count": null,
   "outputs": []
  },
  {
   "cell_type": "code",
   "metadata": {
    "colab": {
     "base_uri": "https://localhost:8080/",
     "height": 1000
    },
    "id": "AaqaUgqsZ3ZS",
    "executionInfo": {
     "status": "ok",
     "timestamp": 1640165815357,
     "user_tz": -180,
     "elapsed": 4405,
     "user": {
      "displayName": "Fethi Tekyaygil",
      "photoUrl": "https://lh3.googleusercontent.com/a-/AOh14GiF5w9ZaGUdyeO-1kYlrWetLJWHHuLtinZj_Wqc=s64",
      "userId": "07772244642227209435"
     }
    },
    "outputId": "eb3a4e18-7d01-4869-9e70-3e1140fc3e2e"
   },
   "source": [
    "cols = [\"x\", \"y\", \"z\"]\n",
    "for col in cols:\n",
    "  plt.figure(figsize=(10, 10))\n",
    "  sns.scatterplot(x=col, y=\"price\", data=df_diamonds)\n",
    "  plt.show()"
   ],
   "execution_count": null,
   "outputs": []
  },
  {
   "cell_type": "code",
   "metadata": {
    "colab": {
     "base_uri": "https://localhost:8080/",
     "height": 302
    },
    "id": "HdjmWzRYC6a-",
    "executionInfo": {
     "status": "ok",
     "timestamp": 1640165816880,
     "user_tz": -180,
     "elapsed": 1526,
     "user": {
      "displayName": "Fethi Tekyaygil",
      "photoUrl": "https://lh3.googleusercontent.com/a-/AOh14GiF5w9ZaGUdyeO-1kYlrWetLJWHHuLtinZj_Wqc=s64",
      "userId": "07772244642227209435"
     }
    },
    "outputId": "001f6b12-435c-4b85-fd61-fef9c408fc2c"
   },
   "source": [
    "sns.histplot(df_diamonds[\"price\"], \n",
    "             kde=True)  # kde = kernel density estimation  # bins = \"auto\""
   ],
   "execution_count": null,
   "outputs": []
  },
  {
   "cell_type": "code",
   "metadata": {
    "id": "1NlnByQlCVHT",
    "colab": {
     "base_uri": "https://localhost:8080/",
     "height": 302
    },
    "executionInfo": {
     "status": "ok",
     "timestamp": 1640165819025,
     "user_tz": -180,
     "elapsed": 2150,
     "user": {
      "displayName": "Fethi Tekyaygil",
      "photoUrl": "https://lh3.googleusercontent.com/a-/AOh14GiF5w9ZaGUdyeO-1kYlrWetLJWHHuLtinZj_Wqc=s64",
      "userId": "07772244642227209435"
     }
    },
    "outputId": "039c4958-90dd-4f6a-db61-1ee1d83ed0a5"
   },
   "source": [
    "sns.histplot(df_diamonds[\"price\"], bins=100, kde=True)  # bins is set to 100, not auto"
   ],
   "execution_count": null,
   "outputs": []
  },
  {
   "cell_type": "code",
   "metadata": {
    "colab": {
     "base_uri": "https://localhost:8080/",
     "height": 302
    },
    "id": "HpTxRlAGC6YM",
    "executionInfo": {
     "status": "ok",
     "timestamp": 1640165819026,
     "user_tz": -180,
     "elapsed": 8,
     "user": {
      "displayName": "Fethi Tekyaygil",
      "photoUrl": "https://lh3.googleusercontent.com/a-/AOh14GiF5w9ZaGUdyeO-1kYlrWetLJWHHuLtinZj_Wqc=s64",
      "userId": "07772244642227209435"
     }
    },
    "outputId": "e4ebeb38-bdea-4e6a-91e4-b265e3b18f53"
   },
   "source": [
    "sns.histplot(df_diamonds[\"price\"])  # the line is not visible, kde is set to False by default"
   ],
   "execution_count": null,
   "outputs": []
  },
  {
   "cell_type": "code",
   "metadata": {
    "id": "93rstO5HC6Vp",
    "colab": {
     "base_uri": "https://localhost:8080/",
     "height": 302
    },
    "executionInfo": {
     "status": "ok",
     "timestamp": 1640165819773,
     "user_tz": -180,
     "elapsed": 753,
     "user": {
      "displayName": "Fethi Tekyaygil",
      "photoUrl": "https://lh3.googleusercontent.com/a-/AOh14GiF5w9ZaGUdyeO-1kYlrWetLJWHHuLtinZj_Wqc=s64",
      "userId": "07772244642227209435"
     }
    },
    "outputId": "98c686a1-f1c4-4c9f-e201-61cd4dfe4d03"
   },
   "source": [
    "# displays only the line depicting the density \n",
    "sns.kdeplot(df_diamonds[\"price\"])"
   ],
   "execution_count": null,
   "outputs": []
  },
  {
   "cell_type": "code",
   "metadata": {
    "id": "NbH_dqy_C6Sn",
    "colab": {
     "base_uri": "https://localhost:8080/",
     "height": 302
    },
    "executionInfo": {
     "status": "ok",
     "timestamp": 1640165819773,
     "user_tz": -180,
     "elapsed": 9,
     "user": {
      "displayName": "Fethi Tekyaygil",
      "photoUrl": "https://lh3.googleusercontent.com/a-/AOh14GiF5w9ZaGUdyeO-1kYlrWetLJWHHuLtinZj_Wqc=s64",
      "userId": "07772244642227209435"
     }
    },
    "outputId": "df86c20b-189f-42fa-fcbf-3a3eb65d073c"
   },
   "source": [
    "sns.histplot(df_diamonds[\"price\"], \n",
    "             kde=False)"
   ],
   "execution_count": null,
   "outputs": []
  },
  {
   "cell_type": "code",
   "metadata": {
    "colab": {
     "base_uri": "https://localhost:8080/",
     "height": 302
    },
    "id": "WIE9bpWDvJkR",
    "executionInfo": {
     "status": "ok",
     "timestamp": 1640165820888,
     "user_tz": -180,
     "elapsed": 1121,
     "user": {
      "displayName": "Fethi Tekyaygil",
      "photoUrl": "https://lh3.googleusercontent.com/a-/AOh14GiF5w9ZaGUdyeO-1kYlrWetLJWHHuLtinZj_Wqc=s64",
      "userId": "07772244642227209435"
     }
    },
    "outputId": "c7b6d38d-7c19-415a-dfdf-a0ba2c021844"
   },
   "source": [
    "sns.histplot(df_diamonds[\"price\"], \n",
    "             bins=100, \n",
    "             kde=True)"
   ],
   "execution_count": null,
   "outputs": []
  },
  {
   "cell_type": "code",
   "metadata": {
    "colab": {
     "base_uri": "https://localhost:8080/",
     "height": 458
    },
    "id": "Tci5YUXZEB4s",
    "executionInfo": {
     "status": "ok",
     "timestamp": 1640165822974,
     "user_tz": -180,
     "elapsed": 2088,
     "user": {
      "displayName": "Fethi Tekyaygil",
      "photoUrl": "https://lh3.googleusercontent.com/a-/AOh14GiF5w9ZaGUdyeO-1kYlrWetLJWHHuLtinZj_Wqc=s64",
      "userId": "07772244642227209435"
     }
    },
    "outputId": "62c7ce32-ca2a-49dc-f257-162af8390b9d"
   },
   "source": [
    "sns.jointplot(x=\"price\", y=df_diamonds[\"carat\"], data=df_diamonds) "
   ],
   "execution_count": null,
   "outputs": []
  },
  {
   "cell_type": "code",
   "metadata": {
    "colab": {
     "base_uri": "https://localhost:8080/",
     "height": 402
    },
    "id": "EuZBoJ0_C6ih",
    "executionInfo": {
     "status": "ok",
     "timestamp": 1640165823692,
     "user_tz": -180,
     "elapsed": 720,
     "user": {
      "displayName": "Fethi Tekyaygil",
      "photoUrl": "https://lh3.googleusercontent.com/a-/AOh14GiF5w9ZaGUdyeO-1kYlrWetLJWHHuLtinZj_Wqc=s64",
      "userId": "07772244642227209435"
     }
    },
    "outputId": "bbd22944-0354-4f25-a7a1-c00f85fac037"
   },
   "source": [
    "sns.catplot(x=\"cut\", y=\"price\", data=df_diamonds)\n",
    "plt.title(\"Cut - Price\")"
   ],
   "execution_count": null,
   "outputs": []
  },
  {
   "cell_type": "code",
   "metadata": {
    "colab": {
     "base_uri": "https://localhost:8080/",
     "height": 402
    },
    "id": "I4Znkby1vJXK",
    "executionInfo": {
     "status": "ok",
     "timestamp": 1640165826632,
     "user_tz": -180,
     "elapsed": 2942,
     "user": {
      "displayName": "Fethi Tekyaygil",
      "photoUrl": "https://lh3.googleusercontent.com/a-/AOh14GiF5w9ZaGUdyeO-1kYlrWetLJWHHuLtinZj_Wqc=s64",
      "userId": "07772244642227209435"
     }
    },
    "outputId": "c862eebb-d06b-4b17-cf04-6f2635b362d3"
   },
   "source": [
    "(sns\n",
    ".catplot(x=\"cut\",\n",
    "         y=\"price\",\n",
    "         hue=\"color\",\n",
    "         kind=\"point\",\n",
    "         data=df_diamonds))\n",
    "plt.title('Cut - Price - Color')"
   ],
   "execution_count": null,
   "outputs": []
  },
  {
   "cell_type": "code",
   "metadata": {
    "colab": {
     "base_uri": "https://localhost:8080/",
     "height": 302
    },
    "id": "e4KA1KOKvJhG",
    "executionInfo": {
     "status": "ok",
     "timestamp": 1640165827155,
     "user_tz": -180,
     "elapsed": 529,
     "user": {
      "displayName": "Fethi Tekyaygil",
      "photoUrl": "https://lh3.googleusercontent.com/a-/AOh14GiF5w9ZaGUdyeO-1kYlrWetLJWHHuLtinZj_Wqc=s64",
      "userId": "07772244642227209435"
     }
    },
    "outputId": "5b54a74f-0458-438e-d08e-2bc01be728da"
   },
   "source": [
    "sns.kdeplot(df_diamonds[\"price\"], shade=True)  # With shade=True, one can fill the space staying under the line "
   ],
   "execution_count": null,
   "outputs": []
  },
  {
   "cell_type": "code",
   "metadata": {
    "colab": {
     "base_uri": "https://localhost:8080/",
     "height": 402
    },
    "id": "WHQynLOivJeF",
    "executionInfo": {
     "status": "ok",
     "timestamp": 1640165828380,
     "user_tz": -180,
     "elapsed": 1228,
     "user": {
      "displayName": "Fethi Tekyaygil",
      "photoUrl": "https://lh3.googleusercontent.com/a-/AOh14GiF5w9ZaGUdyeO-1kYlrWetLJWHHuLtinZj_Wqc=s64",
      "userId": "07772244642227209435"
     }
    },
    "outputId": "2e88aaee-8ac7-4f02-9b61-02d493ab09d1"
   },
   "source": [
    "(sns\n",
    " .FacetGrid(df_diamonds,\n",
    "            hue=\"cut\", \n",
    "            height=5,\n",
    "            xlim = (0, 10000))\n",
    ".map(sns.kdeplot, \"price\", shade=True)\n",
    ".add_legend())\n",
    "plt.title('Cut - Price')"
   ],
   "execution_count": null,
   "outputs": []
  },
  {
   "cell_type": "code",
   "metadata": {
    "colab": {
     "base_uri": "https://localhost:8080/",
     "height": 402
    },
    "id": "zCZO_Jm5vJbX",
    "executionInfo": {
     "status": "ok",
     "timestamp": 1640165829853,
     "user_tz": -180,
     "elapsed": 1477,
     "user": {
      "displayName": "Fethi Tekyaygil",
      "photoUrl": "https://lh3.googleusercontent.com/a-/AOh14GiF5w9ZaGUdyeO-1kYlrWetLJWHHuLtinZj_Wqc=s64",
      "userId": "07772244642227209435"
     }
    },
    "outputId": "5bca539b-aef6-495b-ab06-6d0330d2b867"
   },
   "source": [
    "(sns\n",
    ".FacetGrid(df_diamonds,\n",
    "          hue=\"color\",\n",
    "          height=5,\n",
    "          xlim = (0, 10000))\n",
    ".map(sns.kdeplot,\"price\",shade=True)\n",
    ".add_legend())\n",
    "plt.title('Color - Price')"
   ],
   "execution_count": null,
   "outputs": []
  },
  {
   "cell_type": "code",
   "metadata": {
    "colab": {
     "base_uri": "https://localhost:8080/",
     "height": 301
    },
    "id": "xrRYqeKDA0Xg",
    "executionInfo": {
     "status": "ok",
     "timestamp": 1640165830540,
     "user_tz": -180,
     "elapsed": 691,
     "user": {
      "displayName": "Fethi Tekyaygil",
      "photoUrl": "https://lh3.googleusercontent.com/a-/AOh14GiF5w9ZaGUdyeO-1kYlrWetLJWHHuLtinZj_Wqc=s64",
      "userId": "07772244642227209435"
     }
    },
    "outputId": "f404686f-b7c1-49dc-d1f9-143227093cf0"
   },
   "source": [
    "plt.title('Correlation Matrix')\n",
    "sns.heatmap(df_diamonds.corr(), annot=True)  # heatmap() from sns library is used to plot the correlation matrix "
   ],
   "execution_count": null,
   "outputs": []
  },
  {
   "cell_type": "code",
   "metadata": {
    "colab": {
     "base_uri": "https://localhost:8080/"
    },
    "id": "cug20tsEVOHV",
    "executionInfo": {
     "status": "ok",
     "timestamp": 1640165830540,
     "user_tz": -180,
     "elapsed": 30,
     "user": {
      "displayName": "Fethi Tekyaygil",
      "photoUrl": "https://lh3.googleusercontent.com/a-/AOh14GiF5w9ZaGUdyeO-1kYlrWetLJWHHuLtinZj_Wqc=s64",
      "userId": "07772244642227209435"
     }
    },
    "outputId": "8a03d9f4-5edd-47fb-aaa7-a8015f450ad4"
   },
   "source": [
    "df_diamonds.dtypes"
   ],
   "execution_count": null,
   "outputs": []
  }
 ]
}
